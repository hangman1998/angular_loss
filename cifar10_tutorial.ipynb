{
 "cells": [
  {
   "cell_type": "code",
   "execution_count": 44,
   "metadata": {
    "collapsed": false,
    "ExecuteTime": {
     "start_time": "2023-04-16T00:14:10.724784Z",
     "end_time": "2023-04-16T00:14:10.744583Z"
    }
   },
   "outputs": [],
   "source": [
    "import matplotlib.pyplot as plt\n",
    "import torch\n",
    "from torch import nn\n",
    "import torchvision\n",
    "import torchvision.transforms as transforms\n",
    "from torch.utils.data import DataLoader, Subset\n",
    "from sklearn.model_selection import train_test_split\n",
    "from torch.utils.data.sampler import BatchSampler\n",
    "import numpy as np\n",
    "from torchvision import  models\n",
    "from pytorch_metric_learning import losses\n",
    "import umap\n",
    "import  matplotlib.pyplot as plt\n",
    "import torch.optim as optim\n",
    "device = torch.device('cuda:0' if torch.cuda.is_available() else 'cpu')\n"
   ]
  },
  {
   "cell_type": "code",
   "execution_count": 45,
   "metadata": {
    "collapsed": false,
    "ExecuteTime": {
     "start_time": "2023-04-16T00:14:10.742079Z",
     "end_time": "2023-04-16T00:14:11.658301Z"
    }
   },
   "outputs": [],
   "source": [
    "transform = transforms.Compose(\n",
    "    [transforms.ToTensor(),\n",
    "     transforms.Normalize((0.5, 0.5, 0.5), (0.5, 0.5, 0.5))]\n",
    ")\n",
    "\n",
    "main_dataset = torchvision.datasets.CIFAR10(root='.', train=True, download=False, transform=transform)\n",
    "test_dataset = torchvision.datasets.CIFAR10(root='.', train=False,download=False, transform=transform)"
   ]
  },
  {
   "cell_type": "code",
   "execution_count": 46,
   "outputs": [],
   "source": [
    "# generate indices: instead of the actual data we pass in integers instead\n",
    "train_indices, val_indices,_,_ = train_test_split(range(len(main_dataset.data)), main_dataset.targets, stratify=main_dataset.targets, test_size=0.8, random_state=42)\n",
    "# generate subset based on indices\n",
    "train_dataset = Subset(main_dataset, train_indices)\n",
    "val_dataset = Subset(main_dataset, val_indices)"
   ],
   "metadata": {
    "collapsed": false,
    "ExecuteTime": {
     "start_time": "2023-04-16T00:14:11.658301Z",
     "end_time": "2023-04-16T00:14:11.689874Z"
    }
   }
  },
  {
   "cell_type": "code",
   "execution_count": 47,
   "outputs": [
    {
     "data": {
      "text/plain": "tensor([0, 1, 2, 3, 4, 5, 6, 7, 8, 9])"
     },
     "execution_count": 47,
     "metadata": {},
     "output_type": "execute_result"
    }
   ],
   "source": [
    "# testing stratification\n",
    "train_labels = torch.tensor([x[1] for x in train_dataset])\n",
    "unique_values, counts = train_labels.unique(return_counts=True)\n",
    "unique_values"
   ],
   "metadata": {
    "collapsed": false,
    "ExecuteTime": {
     "start_time": "2023-04-16T00:14:11.692863Z",
     "end_time": "2023-04-16T00:14:13.170883Z"
    }
   }
  },
  {
   "cell_type": "code",
   "execution_count": 48,
   "outputs": [],
   "source": [
    "class BalancedBatchSampler(BatchSampler):\n",
    "    def __init__(self, dataset, n_classes, n_samples):\n",
    "        loader = DataLoader(dataset)\n",
    "        self.labels =torch.LongTensor([x[1] for x in loader])\n",
    "        self.labels_set = list(set(self.labels.numpy()))\n",
    "        self.label_to_indices = {label: np.where(self.labels.numpy() == label)[0] for label in self.labels_set}\n",
    "        for l in self.labels_set:\n",
    "            np.random.shuffle(self.label_to_indices[l])\n",
    "\n",
    "        self.used_label_indices_count = {label: 0 for label in self.labels_set}\n",
    "        self.count = 0\n",
    "        self.n_classes = n_classes\n",
    "        self.n_samples = n_samples\n",
    "        self.dataset = dataset\n",
    "        self.batch_size = self.n_samples * self.n_classes\n",
    "\n",
    "    def __iter__(self):\n",
    "        self.count = 0\n",
    "        while self.count + self.batch_size < len(self.dataset):\n",
    "            classes = np.random.choice(self.labels_set, self.n_classes, replace=False)\n",
    "            indices = []\n",
    "            for class_ in classes:\n",
    "                indices.extend(self.label_to_indices[class_][\n",
    "                               self.used_label_indices_count[class_]:self.used_label_indices_count[\n",
    "                                                                         class_] + self.n_samples])\n",
    "                self.used_label_indices_count[class_] += self.n_samples\n",
    "                if self.used_label_indices_count[class_] + self.n_samples > len(self.label_to_indices[class_]):\n",
    "                    np.random.shuffle(self.label_to_indices[class_])\n",
    "                    self.used_label_indices_count[class_] = 0\n",
    "            yield indices\n",
    "            self.count += self.n_classes * self.n_samples\n",
    "\n",
    "    def __len__(self):\n",
    "        return len(self.dataset) // self.batch_size\n"
   ],
   "metadata": {
    "collapsed": false,
    "ExecuteTime": {
     "start_time": "2023-04-16T00:14:13.176652Z",
     "end_time": "2023-04-16T00:14:13.216213Z"
    }
   }
  },
  {
   "cell_type": "code",
   "execution_count": 49,
   "outputs": [],
   "source": [
    "# create batches\n",
    "val_loader = DataLoader(val_dataset, batch_size=60)\n",
    "train_loader = DataLoader(train_dataset, batch_sampler=BalancedBatchSampler(train_dataset, 10, 6))\n",
    "test_loader = DataLoader(test_dataset, batch_size=60)"
   ],
   "metadata": {
    "collapsed": false,
    "ExecuteTime": {
     "start_time": "2023-04-16T00:14:13.189703Z",
     "end_time": "2023-04-16T00:14:15.355987Z"
    }
   }
  },
  {
   "cell_type": "code",
   "execution_count": 50,
   "outputs": [],
   "source": [
    "# Define ResNet18 model\n",
    "class ResNet18(models.ResNet):\n",
    "    def __init__(self, num_classes=10, is_classifer:bool = True):\n",
    "        super().__init__(models.resnet.BasicBlock, [2, 2, 2, 2], num_classes=num_classes)\n",
    "        self.is_classifier = is_classifer\n",
    "    def forward(self, x):\n",
    "        x = self.conv1(x)\n",
    "        x = self.bn1(x)\n",
    "        x = self.relu(x)\n",
    "        x = self.maxpool(x)\n",
    "\n",
    "        x = self.layer1(x)\n",
    "        x = self.layer2(x)\n",
    "        x = self.layer3(x)\n",
    "        x = self.layer4(x)\n",
    "        x = self.avgpool(x)\n",
    "        backbone = torch.flatten(x, 1)\n",
    "        if self.is_classifier:\n",
    "            x = self.fc(backbone)\n",
    "        return x, backbone\n",
    "\n",
    "model = ResNet18().to(device)\n",
    "# classifier =nn.Linear(128, 10)"
   ],
   "metadata": {
    "collapsed": false,
    "ExecuteTime": {
     "start_time": "2023-04-16T00:14:15.362512Z",
     "end_time": "2023-04-16T00:14:15.514519Z"
    }
   }
  },
  {
   "cell_type": "code",
   "execution_count": 51,
   "metadata": {
    "collapsed": false,
    "ExecuteTime": {
     "start_time": "2023-04-16T00:14:15.518859Z",
     "end_time": "2023-04-16T00:14:15.529884Z"
    }
   },
   "outputs": [],
   "source": [
    "# angular = losses.AngularLoss(40)\n",
    "loss_fn = nn.CrossEntropyLoss() # TODO: change this\n",
    "\n",
    "optimizer = optim.Adam(model.parameters())\n",
    "# optimizer = optim.SGD(backbone_model.parameters(), lr=0.0001, momentum=0.9)\n"
   ]
  },
  {
   "cell_type": "code",
   "execution_count": null,
   "metadata": {
    "collapsed": false,
    "ExecuteTime": {
     "start_time": "2023-04-15T23:53:42.155732Z",
     "end_time": "2023-04-15T23:56:26.564181Z"
    },
    "pycharm": {
     "is_executing": true
    }
   },
   "outputs": [
    {
     "name": "stdout",
     "output_type": "stream",
     "text": [
      "1 train loss: 1.686223339603608 val loss: 1.6378221007837528\n"
     ]
    }
   ],
   "source": [
    "for epoch in range(20):\n",
    "    train_loss = 0.0\n",
    "    val_loss = 0.0\n",
    "    model.train()\n",
    "    for inputs, targets in train_loader:\n",
    "        inputs = inputs.to(device)\n",
    "        targets = targets.to(device)\n",
    "        optimizer.zero_grad()\n",
    "        logits, embeddings = model(inputs)\n",
    "        loss = loss_fn(logits, targets) # TODO: change this\n",
    "        loss.backward()\n",
    "        optimizer.step()\n",
    "        # print statistics\n",
    "        train_loss += loss.item()\n",
    "    model.eval()\n",
    "    for inputs, targets in val_loader:\n",
    "        inputs = inputs.to(device)\n",
    "        targets = targets.to(device)\n",
    "        logits, embeddings = model(inputs)\n",
    "        loss = loss_fn(logits, targets) # TODO: change this\n",
    "        val_loss += loss.item()\n",
    "    print(f'{epoch + 1} train loss: {train_loss / len(train_loader)} val loss: {val_loss / len(val_loader)}')\n"
   ]
  },
  {
   "cell_type": "code",
   "execution_count": null,
   "metadata": {
    "collapsed": false,
    "ExecuteTime": {
     "start_time": "2023-04-15T23:56:26.587477Z",
     "end_time": "2023-04-15T23:56:26.664510Z"
    },
    "pycharm": {
     "is_executing": true
    }
   },
   "outputs": [],
   "source": [
    "PATH = './resnet.pth'\n",
    "torch.save(model.state_dict(), PATH)"
   ]
  },
  {
   "cell_type": "code",
   "execution_count": null,
   "outputs": [],
   "source": [
    "x_test = torch.stack([x[0] for x in test_dataset])"
   ],
   "metadata": {
    "collapsed": false,
    "ExecuteTime": {
     "start_time": "2023-04-15T23:59:12.275734Z",
     "end_time": "2023-04-15T23:59:14.014454Z"
    },
    "pycharm": {
     "is_executing": true
    }
   }
  },
  {
   "cell_type": "code",
   "execution_count": null,
   "outputs": [],
   "source": [
    "y_test = torch.tensor([x[1] for x in test_dataset])"
   ],
   "metadata": {
    "collapsed": false,
    "ExecuteTime": {
     "start_time": "2023-04-16T00:04:55.721921Z",
     "end_time": "2023-04-16T00:04:57.261425Z"
    },
    "pycharm": {
     "is_executing": true
    }
   }
  },
  {
   "cell_type": "code",
   "execution_count": null,
   "outputs": [],
   "source": [
    "_,test_embeddings = model.to('cpu')(x_test)"
   ],
   "metadata": {
    "collapsed": false,
    "ExecuteTime": {
     "start_time": "2023-04-15T23:59:46.644821Z",
     "end_time": "2023-04-15T23:59:52.406443Z"
    },
    "pycharm": {
     "is_executing": true
    }
   }
  },
  {
   "cell_type": "code",
   "execution_count": null,
   "outputs": [],
   "source": [
    "umap_reducer = umap.UMAP(n_components=2)\n",
    "x_umap = umap_reducer.fit_transform(test_embeddings.detach().numpy())"
   ],
   "metadata": {
    "collapsed": false,
    "ExecuteTime": {
     "start_time": "2023-04-16T00:07:03.067628Z",
     "end_time": "2023-04-16T00:07:25.398896Z"
    },
    "pycharm": {
     "is_executing": true
    }
   }
  },
  {
   "cell_type": "code",
   "execution_count": null,
   "outputs": [],
   "source": [
    "x_umap.shape"
   ],
   "metadata": {
    "collapsed": false,
    "ExecuteTime": {
     "start_time": "2023-04-16T00:07:39.856035Z",
     "end_time": "2023-04-16T00:07:39.876956Z"
    },
    "pycharm": {
     "is_executing": true
    }
   }
  },
  {
   "cell_type": "code",
   "execution_count": null,
   "outputs": [],
   "source": [
    "fig = plt.figure()\n",
    "# ax = fig.add_subplot(projection='3d')\n",
    "ax = fig.add_subplot()\n",
    "# ax.scatter(x_umap[:,0], x_umap[:,1], x_umap[:,2],c=y_test)\n",
    "ax.scatter(x_umap[:,0], x_umap[:,1],c=y_test, cmap='Spectral')"
   ],
   "metadata": {
    "collapsed": false,
    "ExecuteTime": {
     "start_time": "2023-04-16T00:07:54.490047Z",
     "end_time": "2023-04-16T00:07:54.854678Z"
    },
    "pycharm": {
     "is_executing": true
    }
   }
  },
  {
   "cell_type": "code",
   "execution_count": null,
   "outputs": [],
   "source": [],
   "metadata": {
    "collapsed": false,
    "pycharm": {
     "is_executing": true
    }
   }
  }
 ],
 "metadata": {
  "kernelspec": {
   "display_name": "Python 3",
   "language": "python",
   "name": "python3"
  },
  "language_info": {
   "codemirror_mode": {
    "name": "ipython",
    "version": 3
   },
   "file_extension": ".py",
   "mimetype": "text/x-python",
   "name": "python",
   "nbconvert_exporter": "python",
   "pygments_lexer": "ipython3",
   "version": "3.10.9"
  }
 },
 "nbformat": 4,
 "nbformat_minor": 0
}
